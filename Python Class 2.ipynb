{
 "cells": [
  {
   "cell_type": "code",
   "execution_count": 1,
   "id": "0b97f874",
   "metadata": {},
   "outputs": [
    {
     "name": "stdout",
     "output_type": "stream",
     "text": [
      "Hello World!\n"
     ]
    }
   ],
   "source": [
    "print('Hello World!')"
   ]
  },
  {
   "cell_type": "markdown",
   "id": "9011f6bb",
   "metadata": {},
   "source": [
    "### 1. Variable"
   ]
  },
  {
   "cell_type": "code",
   "execution_count": null,
   "id": "fb6ebf0b",
   "metadata": {},
   "outputs": [],
   "source": [
    "#Definition\n",
    "\n",
    "\"\"\"\n",
    "Variable are \"empty buckets\" which we assign value to and are otherwise saved in certain memory space. example below shows how\n",
    "to implement variable in python.\n",
    "\"\"\""
   ]
  },
  {
   "cell_type": "code",
   "execution_count": 2,
   "id": "892f8e6c",
   "metadata": {},
   "outputs": [],
   "source": [
    "a = 2"
   ]
  },
  {
   "cell_type": "code",
   "execution_count": 3,
   "id": "0ffc3509",
   "metadata": {},
   "outputs": [
    {
     "name": "stdout",
     "output_type": "stream",
     "text": [
      "2\n"
     ]
    }
   ],
   "source": [
    "print(a)"
   ]
  },
  {
   "cell_type": "code",
   "execution_count": 4,
   "id": "3fcc321b",
   "metadata": {},
   "outputs": [],
   "source": [
    "b = 3"
   ]
  },
  {
   "cell_type": "code",
   "execution_count": 5,
   "id": "87b79e66",
   "metadata": {},
   "outputs": [
    {
     "data": {
      "text/plain": [
       "1"
      ]
     },
     "execution_count": 5,
     "metadata": {},
     "output_type": "execute_result"
    }
   ],
   "source": [
    "b-a"
   ]
  },
  {
   "cell_type": "code",
   "execution_count": 10,
   "id": "43f67c2c",
   "metadata": {},
   "outputs": [
    {
     "name": "stdout",
     "output_type": "stream",
     "text": [
      "enter a number4\n",
      "the number you entered is  4\n",
      "2\n"
     ]
    }
   ],
   "source": [
    "c = input('enter a number')\n",
    "print('the number you entered is ', c)\n",
    "\n",
    "d = int(c)\n",
    "e = d-a\n",
    "print(e)"
   ]
  },
  {
   "cell_type": "markdown",
   "id": "4ae477b8",
   "metadata": {},
   "source": [
    "## commenting in Python"
   ]
  },
  {
   "cell_type": "markdown",
   "id": "7239cda7",
   "metadata": {},
   "source": [
    "######  As the name implies, as a proffesional, it is used to write the heading of a piece of code and also to outline a line of code while debbugging "
   ]
  },
  {
   "cell_type": "code",
   "execution_count": 1,
   "id": "613c3f27",
   "metadata": {},
   "outputs": [
    {
     "name": "stdout",
     "output_type": "stream",
     "text": [
      "3\n"
     ]
    },
    {
     "ename": "NameError",
     "evalue": "name 'b' is not defined",
     "output_type": "error",
     "traceback": [
      "\u001b[1;31m---------------------------------------------------------------------------\u001b[0m",
      "\u001b[1;31mNameError\u001b[0m                                 Traceback (most recent call last)",
      "Cell \u001b[1;32mIn[1], line 6\u001b[0m\n\u001b[0;32m      4\u001b[0m \u001b[38;5;66;03m#b = 4\u001b[39;00m\n\u001b[0;32m      5\u001b[0m \u001b[38;5;28mprint\u001b[39m(a)\n\u001b[1;32m----> 6\u001b[0m \u001b[38;5;28mprint\u001b[39m(\u001b[43mb\u001b[49m)\n",
      "\u001b[1;31mNameError\u001b[0m: name 'b' is not defined"
     ]
    }
   ],
   "source": [
    "# this is a comment...this line doesn't run even in codes. e.g.\n",
    "\n",
    "a = 3\n",
    "#b = 4\n",
    "print(a)\n",
    "print(b)"
   ]
  },
  {
   "cell_type": "code",
   "execution_count": null,
   "id": "49e7f7ca",
   "metadata": {},
   "outputs": [],
   "source": [
    "\"\"\"\n",
    "Multi line comment, this won't run too\n",
    "\"\"\""
   ]
  },
  {
   "cell_type": "markdown",
   "id": "16d5e007",
   "metadata": {},
   "source": [
    "### Variable"
   ]
  },
  {
   "cell_type": "code",
   "execution_count": 13,
   "id": "53d10221",
   "metadata": {
    "collapsed": true
   },
   "outputs": [
    {
     "data": {
      "text/plain": [
       "'\\n1. variable does not start with number e.g 2num\\n2. let your naming be conversant with the code or function you intended\\n3. variable naming in python is case sensitive. i.e, Same is not same\\n'"
      ]
     },
     "execution_count": 13,
     "metadata": {},
     "output_type": "execute_result"
    }
   ],
   "source": [
    "# Variable Rules\n",
    "\n",
    "\"\"\"\n",
    "1. variable does not start with number e.g 2num\n",
    "2. let your naming be conversant with the code or function you intended\n",
    "3. variable naming in python is case sensitive. i.e, Same is not same\n",
    "4. well, your variable naming can be as long as 225 characters\n",
    "\"\"\""
   ]
  },
  {
   "cell_type": "markdown",
   "id": "92256d05",
   "metadata": {},
   "source": [
    "### Python as a Calcilator"
   ]
  },
  {
   "cell_type": "code",
   "execution_count": null,
   "id": "f5542886",
   "metadata": {},
   "outputs": [],
   "source": [
    "\"\"\"\n",
    "Mathematical operators in Python include:\n",
    "- Addition +\n",
    "- Subtraction -\n",
    "- Multiplication *\n",
    "- Division: \n",
    "            -Normal /\n",
    "            -Modulus %\n",
    "            -Double line //\n",
    "\"\"\""
   ]
  },
  {
   "cell_type": "code",
   "execution_count": 1,
   "id": "79f484f8",
   "metadata": {},
   "outputs": [],
   "source": [
    "a = 2\n",
    "b = 3"
   ]
  },
  {
   "cell_type": "code",
   "execution_count": 2,
   "id": "81e11653",
   "metadata": {},
   "outputs": [
    {
     "data": {
      "text/plain": [
       "5"
      ]
     },
     "execution_count": 2,
     "metadata": {},
     "output_type": "execute_result"
    }
   ],
   "source": [
    "a + b"
   ]
  },
  {
   "cell_type": "code",
   "execution_count": 3,
   "id": "2e4b4a1c",
   "metadata": {},
   "outputs": [
    {
     "data": {
      "text/plain": [
       "1"
      ]
     },
     "execution_count": 3,
     "metadata": {},
     "output_type": "execute_result"
    }
   ],
   "source": [
    "b - a"
   ]
  },
  {
   "cell_type": "code",
   "execution_count": 4,
   "id": "0325070e",
   "metadata": {},
   "outputs": [
    {
     "name": "stdout",
     "output_type": "stream",
     "text": [
      "a multiplied by b is  6\n"
     ]
    }
   ],
   "source": [
    "print('a multiplied by b is ',a*b)"
   ]
  },
  {
   "cell_type": "code",
   "execution_count": null,
   "id": "b5771f20",
   "metadata": {},
   "outputs": [],
   "source": [
    "# Run the below code on your Jupyter, or vscode, Pycharm or Pydroid"
   ]
  },
  {
   "cell_type": "code",
   "execution_count": null,
   "id": "49ddccb9",
   "metadata": {},
   "outputs": [],
   "source": [
    "num1 = int(input('enter first value: '))\n",
    "num2 = int(input('enter second value: '))\n",
    "\n",
    "#lets do some arithmetics\n",
    "c = num1 + num2\n",
    "d = num1 - num2\n",
    "e = num1 / num2\n",
    "f = num1 // num2 # watch this output, what do you notice\n",
    "g = num1 % num2  # and this too \n",
    "h = num1 * num2"
   ]
  },
  {
   "cell_type": "code",
   "execution_count": 5,
   "id": "b60b7262",
   "metadata": {},
   "outputs": [],
   "source": [
    "# A Calculator--simple"
   ]
  },
  {
   "cell_type": "code",
   "execution_count": null,
   "id": "0447af23",
   "metadata": {},
   "outputs": [],
   "source": [
    "num1 = int(input('enter first value: '))\n",
    "operator = input('enter you operator: ')\n",
    "num2 = int(input('enter second value: '))\n",
    "\n",
    "if operator == '+':\n",
    "    print(num1 + num2)\n",
    "elif operator == '-':\n",
    "    print(num1 - num2)\n",
    "elif operator == '/':\n",
    "    print(num1 / num2)\n",
    "elif operator == '*':\n",
    "    print(num1 * num2)\n",
    "else:\n",
    "    print('invalid input')"
   ]
  },
  {
   "cell_type": "code",
   "execution_count": null,
   "id": "2731cb87",
   "metadata": {},
   "outputs": [],
   "source": [
    "# A Calculator--medium"
   ]
  },
  {
   "cell_type": "code",
   "execution_count": null,
   "id": "5acd4c53",
   "metadata": {},
   "outputs": [],
   "source": [
    "num1 = int(input('enter first value: '))\n",
    "operator = input('enter you operator: ')\n",
    "num2 = int(input('enter second value: '))\n",
    "\n",
    "\n",
    "if num1 and num2 != 0:   #zero division\n",
    "    if operator == '+':\n",
    "        print(num1 + num2)\n",
    "    elif operator == '-':\n",
    "        print(num1 - num2)\n",
    "    elif operator == '/':\n",
    "        print(num1 / num2)\n",
    "    elif operator == '*':\n",
    "        print(num1 * num2)\n",
    "    else:\n",
    "        print('invalid input')\n",
    "else:\n",
    "    print('invalid number to operate')"
   ]
  },
  {
   "cell_type": "code",
   "execution_count": null,
   "id": "22504176",
   "metadata": {},
   "outputs": [],
   "source": [
    "# A Calculator--proffessional"
   ]
  },
  {
   "cell_type": "code",
   "execution_count": null,
   "id": "d04b6c27",
   "metadata": {},
   "outputs": [],
   "source": [
    "from math import *\n",
    "\n",
    "num1 = int(input('enter first value: '))\n",
    "operator = input('enter you operator: ')\n",
    "num2 = int(input('enter second value: '))\n",
    "\n",
    "\n",
    "if num1 and num2 != 0:  #Zero division\n",
    "    if operator == '+':\n",
    "        print(num1 + num2)\n",
    "    elif operator == '-':\n",
    "        print(num1 - num2)\n",
    "    elif operator == '/':\n",
    "        print(num1 / num2)\n",
    "    elif operator == '*':\n",
    "        print(num1 * num2)\n",
    "    elif operator == 'sin':\n",
    "        print(sin(num1), sin(num2))\n",
    "    elif operator == 'cos':\n",
    "        print(cos(num1), cos(num2))\n",
    "    elif operator == 'tan':\n",
    "        print(tan(num1), tan(num2))\n",
    "    else:\n",
    "        print('invalid input')\n",
    "else:\n",
    "    print('invalid number to operate')"
   ]
  },
  {
   "cell_type": "markdown",
   "id": "7ae18242",
   "metadata": {},
   "source": [
    "### Relation Operators"
   ]
  },
  {
   "cell_type": "code",
   "execution_count": null,
   "id": "587e30fc",
   "metadata": {},
   "outputs": [],
   "source": [
    "\"\"\"\n",
    "This include:\n",
    "- Boolean - True and False\n",
    "- Greater than >\n",
    "- Lesser than <\n",
    "- Equality ==\n",
    "- Greater and Equals to >=\n",
    "- Lesser and Equals to <=\n",
    "- Not Equals to !=\n",
    "\"\"\""
   ]
  }
 ],
 "metadata": {
  "kernelspec": {
   "display_name": "Python 3 (ipykernel)",
   "language": "python",
   "name": "python3"
  },
  "language_info": {
   "codemirror_mode": {
    "name": "ipython",
    "version": 3
   },
   "file_extension": ".py",
   "mimetype": "text/x-python",
   "name": "python",
   "nbconvert_exporter": "python",
   "pygments_lexer": "ipython3",
   "version": "3.10.13"
  }
 },
 "nbformat": 4,
 "nbformat_minor": 5
}
